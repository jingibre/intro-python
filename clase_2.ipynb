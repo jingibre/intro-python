{
 "cells": [
  {
   "cell_type": "code",
   "execution_count": 2,
   "metadata": {},
   "outputs": [],
   "source": [
    "import numpy as np\n",
    "\n",
    "lista_1 = [1, 2, 3, 4]\n",
    "lista_2 = [3, 2, 1, 5]\n",
    "\n",
    "array_1 = np.array(lista_1)\n",
    "array_2 = np.array(lista_2)"
   ]
  },
  {
   "cell_type": "code",
   "execution_count": 3,
   "metadata": {},
   "outputs": [
    {
     "data": {
      "text/plain": [
       "[1, 2, 3, 4]"
      ]
     },
     "metadata": {},
     "output_type": "display_data"
    }
   ],
   "source": [
    "display(lista_1)"
   ]
  },
  {
   "cell_type": "code",
   "execution_count": 4,
   "metadata": {},
   "outputs": [
    {
     "data": {
      "text/plain": [
       "(list, numpy.ndarray)"
      ]
     },
     "execution_count": 4,
     "metadata": {},
     "output_type": "execute_result"
    }
   ],
   "source": [
    "type(lista_1), type(array_1)"
   ]
  },
  {
   "cell_type": "code",
   "execution_count": 5,
   "metadata": {},
   "outputs": [
    {
     "data": {
      "text/plain": [
       "array([4, 4, 4, 9])"
      ]
     },
     "execution_count": 5,
     "metadata": {},
     "output_type": "execute_result"
    }
   ],
   "source": [
    "array_1 + array_2"
   ]
  },
  {
   "cell_type": "code",
   "execution_count": 6,
   "metadata": {},
   "outputs": [],
   "source": [
    "matriz_1 = np.array([ [1, 2, 3, 4],  [1, 2, 3, 4]])"
   ]
  },
  {
   "cell_type": "code",
   "execution_count": 7,
   "metadata": {},
   "outputs": [
    {
     "data": {
      "text/plain": [
       "array([[1, 2, 3, 4],\n",
       "       [1, 2, 3, 4]])"
      ]
     },
     "execution_count": 7,
     "metadata": {},
     "output_type": "execute_result"
    }
   ],
   "source": [
    "matriz_1"
   ]
  },
  {
   "cell_type": "code",
   "execution_count": 8,
   "metadata": {},
   "outputs": [
    {
     "data": {
      "text/plain": [
       "array([[1, 1],\n",
       "       [2, 2],\n",
       "       [3, 3],\n",
       "       [4, 4]])"
      ]
     },
     "execution_count": 8,
     "metadata": {},
     "output_type": "execute_result"
    }
   ],
   "source": [
    "matriz_1.T"
   ]
  },
  {
   "cell_type": "code",
   "execution_count": 10,
   "metadata": {},
   "outputs": [],
   "source": [
    "from matplotlib import pyplot as plt"
   ]
  },
  {
   "cell_type": "code",
   "execution_count": 13,
   "metadata": {},
   "outputs": [],
   "source": [
    "X = np.random.normal(0, 1, 200)\n",
    "Y = np.random.normal(0, 1, 200)"
   ]
  },
  {
   "cell_type": "code",
   "execution_count": 14,
   "metadata": {},
   "outputs": [
    {
     "data": {
      "text/plain": [
       "array([-0.62683409,  0.46462842,  1.14030289, -0.97007271,  0.91454723,\n",
       "        0.0177543 ,  0.13307325,  0.5795584 ,  0.81139791, -0.08540132,\n",
       "        2.38797161, -1.86608356,  0.02234771,  0.79252986, -1.01208094,\n",
       "        0.34363838,  1.40046922,  2.30548523, -0.44876871,  1.52105397,\n",
       "        0.51856416,  0.80255214, -0.47148081, -0.13408281,  1.14529996,\n",
       "        0.20360111, -0.8897122 ,  0.47902104,  0.40676631, -0.0863583 ,\n",
       "        3.18864184, -0.21738863,  0.19782841,  0.46854996,  0.1994533 ,\n",
       "       -0.8222071 ,  0.51716192, -0.73615738,  0.23184336, -0.65881511,\n",
       "       -0.52732871,  1.05778964,  1.07211438, -0.34249029,  1.15542943,\n",
       "        0.22498623,  1.697769  , -1.46253284,  1.7666774 ,  0.57392704,\n",
       "        0.89792477, -1.29971373, -3.40387925,  0.37997493, -0.78525597,\n",
       "       -0.74974928, -0.55655442,  1.33521867,  0.50102305,  0.80763021,\n",
       "       -0.14228894, -0.2795652 , -2.69798312,  0.31497311,  0.99653277,\n",
       "        0.10650184, -1.07157118,  0.67953526,  1.37911029, -1.62652277,\n",
       "       -0.38094731,  0.48582238, -0.93838355,  1.34536795,  0.32358104,\n",
       "       -0.5840036 ,  0.7853125 ,  0.30053905, -1.17116513,  0.2633319 ,\n",
       "        0.83467764, -0.69411703, -0.2369892 ,  0.38698517,  0.4982646 ,\n",
       "       -1.3124732 ,  1.36544668, -0.97069594,  0.83929477, -0.4424599 ,\n",
       "        1.97084023,  2.49247742,  0.72744158, -0.22171073, -0.60545073,\n",
       "        3.28141151,  1.56282721,  1.13443767, -0.52639196,  0.3781263 ,\n",
       "        1.02578795,  0.19293984, -0.46279389, -0.74635109, -0.38332466,\n",
       "        0.65725528, -2.36267479,  0.90103895,  0.21925658,  0.82388769,\n",
       "        0.80672783, -0.81355709,  1.78135032, -1.18487177, -0.14911148,\n",
       "       -0.12200929,  0.56255087, -1.63475085,  1.49132276, -0.4486377 ,\n",
       "        0.69347169, -1.69880903, -1.69095156,  0.78473575, -1.57705217,\n",
       "       -0.17029971,  0.485459  ,  0.12045129,  0.4499609 ,  0.45459312,\n",
       "       -0.27418311,  1.46574196, -0.00832373,  0.1674637 ,  1.29999755,\n",
       "        0.46794611, -0.26161689, -1.06215428,  0.09871809, -1.27240106,\n",
       "       -0.78027192, -0.95759516,  0.90088055, -0.80062073,  0.67586944,\n",
       "        0.4157878 , -1.53566115, -1.84115239, -1.69858958, -0.24038081,\n",
       "       -0.74042831,  0.65092502,  0.69873564, -0.42415559,  0.48671916,\n",
       "        1.74509724, -0.22200443, -0.28605434, -1.04940512, -0.27961016,\n",
       "       -0.57298184, -1.84777949,  0.28548447,  0.7352607 ,  0.42085865,\n",
       "        0.35610127,  0.4218866 , -0.87259408,  0.35077678,  1.38218787,\n",
       "       -0.38315357,  1.56580048, -0.51677065,  0.9621849 , -0.37284452,\n",
       "       -0.27202454,  1.79892556,  0.72107595, -0.28373241, -0.2312842 ,\n",
       "       -0.62698003, -1.17384999,  0.08342605, -0.0193855 , -0.11603449,\n",
       "        0.42766451, -2.5317507 ,  1.26349513,  0.07585639, -0.02902848,\n",
       "        0.06131361, -0.31230872, -1.19167027, -1.1869875 ,  0.69245221,\n",
       "        0.20819886, -1.41680979, -0.45538008,  1.22125444, -1.12886934])"
      ]
     },
     "execution_count": 14,
     "metadata": {},
     "output_type": "execute_result"
    }
   ],
   "source": [
    "X"
   ]
  },
  {
   "cell_type": "code",
   "execution_count": 15,
   "metadata": {},
   "outputs": [
    {
     "data": {
      "text/plain": [
       "<matplotlib.collections.PathCollection at 0x1e899d17ca0>"
      ]
     },
     "execution_count": 15,
     "metadata": {},
     "output_type": "execute_result"
    },
    {
     "data": {
      "image/png": "[encoded data removed]",
      "text/plain": [
       "<Figure size 432x288 with 1 Axes>"
      ]
     },
     "metadata": {
      "needs_background": "light"
     },
     "output_type": "display_data"
    }
   ],
   "source": [
    "plt.scatter(X,Y)"
   ]
  },
  {
   "cell_type": "code",
   "execution_count": 16,
   "metadata": {},
   "outputs": [],
   "source": [
    "t = np.linspace(0, 10, 100)\n",
    "x = t**2"
   ]
  },
  {
   "cell_type": "code",
   "execution_count": 17,
   "metadata": {},
   "outputs": [
    {
     "data": {
      "text/plain": [
       "[<matplotlib.lines.Line2D at 0x1e89a05d310>]"
      ]
     },
     "execution_count": 17,
     "metadata": {},
     "output_type": "execute_result"
    },
    {
     "data": {
      "image/png": "[encoded data removed]",
      "text/plain": [
       "<Figure size 432x288 with 1 Axes>"
      ]
     },
     "metadata": {
      "needs_background": "light"
     },
     "output_type": "display_data"
    }
   ],
   "source": [
    "plt.plot(t,x)"
   ]
  },
  {
   "cell_type": "code",
   "execution_count": 18,
   "metadata": {},
   "outputs": [
    {
     "data": {
      "text/plain": [
       "(array([ 1.,  3., 12., 28., 45., 53., 35., 17.,  4.,  2.]),\n",
       " array([-3.40387925, -2.73535018, -2.0668211 , -1.39829203, -0.72976295,\n",
       "        -0.06123387,  0.6072952 ,  1.27582428,  1.94435336,  2.61288243,\n",
       "         3.28141151]),\n",
       " <BarContainer object of 10 artists>)"
      ]
     },
     "execution_count": 18,
     "metadata": {},
     "output_type": "execute_result"
    },
    {
     "data": {
      "image/png": "[encoded data removed]",
      "text/plain": [
       "<Figure size 432x288 with 1 Axes>"
      ]
     },
     "metadata": {
      "needs_background": "light"
     },
     "output_type": "display_data"
    }
   ],
   "source": [
    "plt.hist(X)"
   ]
  },
  {
   "cell_type": "code",
   "execution_count": null,
   "metadata": {},
   "outputs": [],
   "source": []
  }
 ],
 "metadata": {
  "kernelspec": {
   "display_name": "Python 3",
   "language": "python",
   "name": "python3"
  },
  "language_info": {
   "codemirror_mode": {
    "name": "ipython",
    "version": 3
   },
   "file_extension": ".py",
   "mimetype": "text/x-python",
   "name": "python",
   "nbconvert_exporter": "python",
   "pygments_lexer": "ipython3",
   "version": "3.8.5"
  }
 },
 "nbformat": 4,
 "nbformat_minor": 4
}
