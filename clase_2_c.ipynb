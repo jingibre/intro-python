{
 "cells": [
  {
   "cell_type": "code",
   "execution_count": 11,
   "metadata": {},
   "outputs": [],
   "source": [
    "import pandas as pd\n",
    "import numpy as np\n",
    "df = pd.read_csv('data/alturas-pesos.csv')\n"
   ]
  },
  {
   "cell_type": "code",
   "execution_count": 12,
   "metadata": {},
   "outputs": [
    {
     "data": {
      "text/plain": [
       "(array([61.235, 97.432, 73.324, ..., 75.461, 65.461, 80.323]),\n",
       " array([162.402, 181.908, 172.459, ..., 170.91 , 166.137, 171.575]))"
      ]
     },
     "execution_count": 12,
     "metadata": {},
     "output_type": "execute_result"
    }
   ],
   "source": [
    "df['Peso'].values, df['Altura'].values"
   ]
  },
  {
   "cell_type": "code",
   "execution_count": 13,
   "metadata": {},
   "outputs": [],
   "source": [
    "\n",
    "class StandardScaler(): #Se usa camel case con mayusculas para una clase\n",
    "            \n",
    "    \"\"\"\n",
    "    Normaliza un numpy array\n",
    "    \"\"\"\n",
    "    def __init__(self): #La variable self esta reservada y es cuando se refiere a si mismo, es que esta funcion modifica al objeto\n",
    "        self.mean = 0\n",
    "        self.std  = 0\n",
    "        \n",
    "    def fit(self,X):\n",
    "        self.mean_ = X.mean()\n",
    "        self.std_  = X.std()\n",
    "    \n",
    "    def transform(self, X):\n",
    "        return ((X - self.mean_) / self.std_)\n",
    "        \n"
   ]
  },
  {
   "cell_type": "code",
   "execution_count": 14,
   "metadata": {},
   "outputs": [],
   "source": [
    "s_peso = StandardScaler() # self toma el nombre de s_peso"
   ]
  },
  {
   "cell_type": "code",
   "execution_count": 15,
   "metadata": {},
   "outputs": [
    {
     "data": {
      "text/plain": [
       "0"
      ]
     },
     "execution_count": 15,
     "metadata": {},
     "output_type": "execute_result"
    }
   ],
   "source": [
    "s_peso.mean"
   ]
  },
  {
   "cell_type": "code",
   "execution_count": 16,
   "metadata": {},
   "outputs": [],
   "source": [
    "s_peso.fit(df['Peso'].values)"
   ]
  },
  {
   "cell_type": "code",
   "execution_count": 17,
   "metadata": {},
   "outputs": [
    {
     "data": {
      "text/plain": [
       "array([ 1.85981433, -0.87545572,  0.49217931, -1.55927324])"
      ]
     },
     "execution_count": 17,
     "metadata": {},
     "output_type": "execute_result"
    }
   ],
   "source": [
    "s_peso.transform(np.array([100, 60, 80, 50]))"
   ]
  },
  {
   "cell_type": "code",
   "execution_count": null,
   "metadata": {},
   "outputs": [],
   "source": []
  }
 ],
 "metadata": {
  "kernelspec": {
   "display_name": "Python 3",
   "language": "python",
   "name": "python3"
  },
  "language_info": {
   "codemirror_mode": {
    "name": "ipython",
    "version": 3
   },
   "file_extension": ".py",
   "mimetype": "text/x-python",
   "name": "python",
   "nbconvert_exporter": "python",
   "pygments_lexer": "ipython3",
   "version": "3.8.5"
  }
 },
 "nbformat": 4,
 "nbformat_minor": 4
}
